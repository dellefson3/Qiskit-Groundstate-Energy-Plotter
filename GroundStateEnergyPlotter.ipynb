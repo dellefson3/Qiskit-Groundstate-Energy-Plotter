{
 "cells": [
  {
   "cell_type": "code",
   "execution_count": null,
   "metadata": {},
   "outputs": [],
   "source": [
    "#Variational Quantum Eigensolver\n",
    "\n",
    "#Simulate Chemical Reactions\n",
    "#We can estimate the ground state energy of a system, by making an educated guess of its wave function which represents the molecule.\n",
    "#Vary the wave function until a minimum value of the ground state energy is achieved."
   ]
  },
  {
   "cell_type": "code",
   "execution_count": null,
   "metadata": {},
   "outputs": [],
   "source": [
    "import numpy as np\n",
    "import pylab\n",
    "import copy\n",
    "from qiskit import BasicAer\n",
    "from qiskit.aqua import aqua_globals, QuantumInstance\n",
    "from qiskit.aqua.algorithms import NumPyMinimumEigensolver, VQE\n",
    "from qiskit.aqua.components.optimizers import SLSQP\n",
    "from qiskit.chemistry.components.initial_states import HartreeFock\n",
    "from qiskit.chemistry.components.variational_forms import UCCSD\n",
    "from qiskit.chemistry.drivers import PySCFDriver\n",
    "from qiskit.chemistry.core import Hamiltonian, QubitMappingType"
   ]
  },
  {
   "cell_type": "code",
   "execution_count": null,
   "metadata": {},
   "outputs": [],
   "source": [
    "molecule = \"H .0 .0 -{0}; Li .0 .0 {0}\" #Lithium Hydride\n",
    "distances = np.arange(0.5, 4.25, 0.25)\n",
    "vqe_energies = []\n",
    "hf_energies = []\n",
    "exact_energies = []"
   ]
  },
  {
   "cell_type": "code",
   "execution_count": null,
   "metadata": {},
   "outputs": [],
   "source": [
    "for i, d in  enumerate(distances):\n",
    "    print(\"step\", i)\n",
    "\n",
    "    #set up experiment\n",
    "    driver = PySCFDriver(molecule.format(d/2), basis=\"sto3g\")\n",
    "    qmolecule = driver.run()\n",
    "    operator = Hamiltonian(qubit_mapping = QubitMappingType.Parity,\n",
    "                           two_qubit_reduction = True, freeze_core = True,\n",
    "                           orbital_reduction = [-3,-2])\n",
    "    qubit_op, aux_ops = operator.run(qmolecule)\n",
    "\n",
    "    #Exact Classical Result (For Comparison)\n",
    "    exact_result = NumPyMinimumEigensolver(qubit_op, aux_operators=aux_ops).run()\n",
    "    exact_result = operator.process_algorithm_result(exact_result)\n",
    "\n",
    "    #VQE\n",
    "    optimizer = SLSQP(maxiter = 1000)\n",
    "    inital_state = HartreeFock(operator.molecule_info[\"num_orbitals\"],\n",
    "                               operator.molecule_info[\"num_particles\"],\n",
    "                               qubit_mapping = operator._qubit_mapping,\n",
    "                               two_qubit_reduction = operator.two_qubit_reduction)\n",
    "    var_form = UCCSD(num_orbitals = operator.molecule_info[\"num_orbitals\"],\n",
    "                               num_particles = operator.molecule_info[\"num_particles\"],\n",
    "                               inital_state = inital_state,\n",
    "                               qubit_mapping = operator._qubit_mapping,\n",
    "                               two_qubit_reduction = operator._two_qubit_reduction)\n",
    "    algo = VQE(qubit_op, var_form, optimizer, aux_operators = aux_ops)\n",
    "\n",
    "    vqe_result = algo.run(QuantumInstance(BasicAer.get_backend(\"statevector_simulator\")))\n",
    "    vqe_result = operator.process_algorithm_result(vqe_result)\n",
    "\n",
    "    exact_energies.append(exact_result.energy)\n",
    "    vqe_energies.append(vqe_result.energy)\n",
    "    hf_energies.append(vqe_result.hartree_fock_energy)"
   ]
  },
  {
   "cell_type": "code",
   "execution_count": null,
   "metadata": {},
   "outputs": [],
   "source": [
    "pylab.plot(distances, hf_energies,label = \"Hartree-Fock\")\n",
    "pylab.plot(distances, vqe_energies, 'o', label = \"VQE\")\n",
    "pylab.plot(distances, exact_energies, 'x', label = \"Exact\")\n",
    "\n",
    "pylab.xlabel(\"Interatomic Distance\")\n",
    "pylab.ylabel(\"Energy\")\n",
    "pylab.title(\"LiH Ground State Energy\")\n",
    "pylab.legend(loc = \"upper right\")"
   ]
  }
 ],
 "metadata": {
  "language_info": {
   "name": "python"
  }
 },
 "nbformat": 4,
 "nbformat_minor": 2
}
